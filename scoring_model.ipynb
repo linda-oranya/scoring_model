{
 "cells": [
  {
   "cell_type": "code",
   "execution_count": 58,
   "metadata": {},
   "outputs": [],
   "source": [
    "# importing necessary libraries\n",
    "import pandas as pd\n",
    "import numpy as np\n",
    "import matplotlib.pyplot as plt\n",
    "import itertools\n",
    "from sklearn.metrics import confusion_matrix\n",
    "from sklearn.model_selection import train_test_split\n",
    "from sklearn.feature_selection import RFE\n",
    "from sklearn.metrics import accuracy_score\n",
    "from sklearn.linear_model import LogisticRegression\n",
    "from sklearn.metrics import classification_report\n",
    "from sklearn.metrics import roc_auc_score\n",
    "from sklearn.metrics import roc_curve\n",
    "from imblearn.over_sampling import SMOTE\n",
    "import statsmodels.api as sm\n",
    "import warnings\n",
    "warnings.simplefilter(action='ignore', category=FutureWarning)"
   ]
  },
  {
   "cell_type": "code",
   "execution_count": 59,
   "metadata": {},
   "outputs": [],
   "source": [
    "df_credit_bureau = pd.read_csv('CreditBureau.csv')\n",
    "df_customer_info = pd.read_csv('CustomerInfo.csv')\n",
    "df_external_score = pd.read_csv('ExternalScore.csv')"
   ]
  },
  {
   "cell_type": "code",
   "execution_count": 60,
   "metadata": {},
   "outputs": [
    {
     "data": {
      "text/html": [
       "<div>\n",
       "<style scoped>\n",
       "    .dataframe tbody tr th:only-of-type {\n",
       "        vertical-align: middle;\n",
       "    }\n",
       "\n",
       "    .dataframe tbody tr th {\n",
       "        vertical-align: top;\n",
       "    }\n",
       "\n",
       "    .dataframe thead th {\n",
       "        text-align: right;\n",
       "    }\n",
       "</style>\n",
       "<table border=\"1\" class=\"dataframe\">\n",
       "  <thead>\n",
       "    <tr style=\"text-align: right;\">\n",
       "      <th></th>\n",
       "      <th>customer_id</th>\n",
       "      <th>AGE</th>\n",
       "      <th>INCOME</th>\n",
       "      <th>GENDER</th>\n",
       "      <th>EDUCATION</th>\n",
       "      <th>LOAN_PURPOSE</th>\n",
       "      <th>APPLICATION_RECEIVE_TIME</th>\n",
       "      <th>HAS_APPLIED_BEFORE</th>\n",
       "      <th>HAS_INCOME_VERIFICATION</th>\n",
       "      <th>LOAN_WAS_PAID_BACK</th>\n",
       "    </tr>\n",
       "  </thead>\n",
       "  <tbody>\n",
       "    <tr>\n",
       "      <th>0</th>\n",
       "      <td>36493</td>\n",
       "      <td>40</td>\n",
       "      <td>10000000.0</td>\n",
       "      <td>Female</td>\n",
       "      <td>Diploma</td>\n",
       "      <td>Working Capital</td>\n",
       "      <td>09:07:00</td>\n",
       "      <td>No</td>\n",
       "      <td>Yes</td>\n",
       "      <td>1</td>\n",
       "    </tr>\n",
       "    <tr>\n",
       "      <th>1</th>\n",
       "      <td>36494</td>\n",
       "      <td>39</td>\n",
       "      <td>15000000.0</td>\n",
       "      <td>Female</td>\n",
       "      <td>Bachelor Degree</td>\n",
       "      <td>Other</td>\n",
       "      <td>15:15:00</td>\n",
       "      <td>No</td>\n",
       "      <td>Yes</td>\n",
       "      <td>1</td>\n",
       "    </tr>\n",
       "    <tr>\n",
       "      <th>2</th>\n",
       "      <td>36495</td>\n",
       "      <td>28</td>\n",
       "      <td>15000000.0</td>\n",
       "      <td>Male</td>\n",
       "      <td>Bachelor Degree</td>\n",
       "      <td>Renovation</td>\n",
       "      <td>07:13:00</td>\n",
       "      <td>No</td>\n",
       "      <td>Yes</td>\n",
       "      <td>1</td>\n",
       "    </tr>\n",
       "    <tr>\n",
       "      <th>3</th>\n",
       "      <td>36496</td>\n",
       "      <td>28</td>\n",
       "      <td>4000000.0</td>\n",
       "      <td>Male</td>\n",
       "      <td>Bachelor Degree</td>\n",
       "      <td>Renovation</td>\n",
       "      <td>12:05:00</td>\n",
       "      <td>Yes</td>\n",
       "      <td>Yes</td>\n",
       "      <td>1</td>\n",
       "    </tr>\n",
       "    <tr>\n",
       "      <th>4</th>\n",
       "      <td>36497</td>\n",
       "      <td>38</td>\n",
       "      <td>10000000.0</td>\n",
       "      <td>Male</td>\n",
       "      <td>Diploma</td>\n",
       "      <td>Renovation</td>\n",
       "      <td>14:35:00</td>\n",
       "      <td>Yes</td>\n",
       "      <td>Yes</td>\n",
       "      <td>0</td>\n",
       "    </tr>\n",
       "  </tbody>\n",
       "</table>\n",
       "</div>"
      ],
      "text/plain": [
       "   customer_id  AGE      INCOME  GENDER        EDUCATION     LOAN_PURPOSE  \\\n",
       "0        36493   40  10000000.0  Female          Diploma  Working Capital   \n",
       "1        36494   39  15000000.0  Female  Bachelor Degree            Other   \n",
       "2        36495   28  15000000.0    Male  Bachelor Degree       Renovation   \n",
       "3        36496   28   4000000.0    Male  Bachelor Degree       Renovation   \n",
       "4        36497   38  10000000.0    Male          Diploma       Renovation   \n",
       "\n",
       "  APPLICATION_RECEIVE_TIME HAS_APPLIED_BEFORE HAS_INCOME_VERIFICATION  \\\n",
       "0                 09:07:00                 No                     Yes   \n",
       "1                 15:15:00                 No                     Yes   \n",
       "2                 07:13:00                 No                     Yes   \n",
       "3                 12:05:00                Yes                     Yes   \n",
       "4                 14:35:00                Yes                     Yes   \n",
       "\n",
       "   LOAN_WAS_PAID_BACK  \n",
       "0                   1  \n",
       "1                   1  \n",
       "2                   1  \n",
       "3                   1  \n",
       "4                   0  "
      ]
     },
     "execution_count": 60,
     "metadata": {},
     "output_type": "execute_result"
    }
   ],
   "source": [
    "df_customer_info.head()"
   ]
  },
  {
   "cell_type": "code",
   "execution_count": 61,
   "metadata": {},
   "outputs": [
    {
     "data": {
      "text/html": [
       "<div>\n",
       "<style scoped>\n",
       "    .dataframe tbody tr th:only-of-type {\n",
       "        vertical-align: middle;\n",
       "    }\n",
       "\n",
       "    .dataframe tbody tr th {\n",
       "        vertical-align: top;\n",
       "    }\n",
       "\n",
       "    .dataframe thead th {\n",
       "        text-align: right;\n",
       "    }\n",
       "</style>\n",
       "<table border=\"1\" class=\"dataframe\">\n",
       "  <thead>\n",
       "    <tr style=\"text-align: right;\">\n",
       "      <th></th>\n",
       "      <th>customer_id</th>\n",
       "      <th>LOANS_WITHOUT_DELAYS</th>\n",
       "      <th>LOANS_WITH_DELAYS</th>\n",
       "      <th>KNOWN_ASSETS</th>\n",
       "    </tr>\n",
       "  </thead>\n",
       "  <tbody>\n",
       "    <tr>\n",
       "      <th>0</th>\n",
       "      <td>36493</td>\n",
       "      <td>3</td>\n",
       "      <td>3</td>\n",
       "      <td>40000000.0</td>\n",
       "    </tr>\n",
       "    <tr>\n",
       "      <th>1</th>\n",
       "      <td>36494</td>\n",
       "      <td>3</td>\n",
       "      <td>0</td>\n",
       "      <td>20000000.0</td>\n",
       "    </tr>\n",
       "    <tr>\n",
       "      <th>2</th>\n",
       "      <td>36496</td>\n",
       "      <td>2</td>\n",
       "      <td>1</td>\n",
       "      <td>0.0</td>\n",
       "    </tr>\n",
       "    <tr>\n",
       "      <th>3</th>\n",
       "      <td>36497</td>\n",
       "      <td>1</td>\n",
       "      <td>0</td>\n",
       "      <td>40000000.0</td>\n",
       "    </tr>\n",
       "    <tr>\n",
       "      <th>4</th>\n",
       "      <td>36498</td>\n",
       "      <td>7</td>\n",
       "      <td>0</td>\n",
       "      <td>NaN</td>\n",
       "    </tr>\n",
       "  </tbody>\n",
       "</table>\n",
       "</div>"
      ],
      "text/plain": [
       "   customer_id  LOANS_WITHOUT_DELAYS  LOANS_WITH_DELAYS  KNOWN_ASSETS\n",
       "0        36493                     3                  3    40000000.0\n",
       "1        36494                     3                  0    20000000.0\n",
       "2        36496                     2                  1           0.0\n",
       "3        36497                     1                  0    40000000.0\n",
       "4        36498                     7                  0           NaN"
      ]
     },
     "execution_count": 61,
     "metadata": {},
     "output_type": "execute_result"
    }
   ],
   "source": [
    "df_credit_bureau.head()"
   ]
  },
  {
   "attachments": {},
   "cell_type": "markdown",
   "metadata": {},
   "source": [
    "##### Data Exploration"
   ]
  },
  {
   "cell_type": "code",
   "execution_count": 62,
   "metadata": {},
   "outputs": [
    {
     "name": "stdout",
     "output_type": "stream",
     "text": [
      "Customer Info data shape:  (6588, 10)\n",
      "Credit Bureau data shape:  (5268, 4)\n"
     ]
    }
   ],
   "source": [
    "print(\"Customer Info data shape: \", df_customer_info.shape)\n",
    "print(\"Credit Bureau data shape: \", df_credit_bureau.shape)"
   ]
  },
  {
   "cell_type": "code",
   "execution_count": 63,
   "metadata": {},
   "outputs": [
    {
     "name": "stdout",
     "output_type": "stream",
     "text": [
      "<class 'pandas.core.frame.DataFrame'>\n",
      "RangeIndex: 5268 entries, 0 to 5267\n",
      "Data columns (total 4 columns):\n",
      " #   Column                Non-Null Count  Dtype  \n",
      "---  ------                --------------  -----  \n",
      " 0   customer_id           5268 non-null   int64  \n",
      " 1   LOANS_WITHOUT_DELAYS  5268 non-null   int64  \n",
      " 2   LOANS_WITH_DELAYS     5268 non-null   int64  \n",
      " 3   KNOWN_ASSETS          3837 non-null   float64\n",
      "dtypes: float64(1), int64(3)\n",
      "memory usage: 164.8 KB\n"
     ]
    }
   ],
   "source": [
    "df_credit_bureau.info()"
   ]
  },
  {
   "cell_type": "code",
   "execution_count": 64,
   "metadata": {},
   "outputs": [
    {
     "name": "stdout",
     "output_type": "stream",
     "text": [
      "<class 'pandas.core.frame.DataFrame'>\n",
      "RangeIndex: 6588 entries, 0 to 6587\n",
      "Data columns (total 10 columns):\n",
      " #   Column                    Non-Null Count  Dtype  \n",
      "---  ------                    --------------  -----  \n",
      " 0   customer_id               6588 non-null   int64  \n",
      " 1   AGE                       6588 non-null   int64  \n",
      " 2   INCOME                    6586 non-null   float64\n",
      " 3   GENDER                    6588 non-null   object \n",
      " 4   EDUCATION                 6588 non-null   object \n",
      " 5   LOAN_PURPOSE              6539 non-null   object \n",
      " 6   APPLICATION_RECEIVE_TIME  6588 non-null   object \n",
      " 7   HAS_APPLIED_BEFORE        6588 non-null   object \n",
      " 8   HAS_INCOME_VERIFICATION   6588 non-null   object \n",
      " 9   LOAN_WAS_PAID_BACK        6588 non-null   int64  \n",
      "dtypes: float64(1), int64(3), object(6)\n",
      "memory usage: 514.8+ KB\n"
     ]
    }
   ],
   "source": [
    "df_customer_info.info()"
   ]
  },
  {
   "attachments": {},
   "cell_type": "markdown",
   "metadata": {},
   "source": [
    "There are no null values for columns in Customer Info and no null values for Credit Bureau data except Known assets column which indicates a significance to customers."
   ]
  },
  {
   "cell_type": "code",
   "execution_count": 65,
   "metadata": {},
   "outputs": [
    {
     "data": {
      "text/html": [
       "<div>\n",
       "<style scoped>\n",
       "    .dataframe tbody tr th:only-of-type {\n",
       "        vertical-align: middle;\n",
       "    }\n",
       "\n",
       "    .dataframe tbody tr th {\n",
       "        vertical-align: top;\n",
       "    }\n",
       "\n",
       "    .dataframe thead th {\n",
       "        text-align: right;\n",
       "    }\n",
       "</style>\n",
       "<table border=\"1\" class=\"dataframe\">\n",
       "  <thead>\n",
       "    <tr style=\"text-align: right;\">\n",
       "      <th></th>\n",
       "      <th>customer_id</th>\n",
       "      <th>AGE</th>\n",
       "      <th>INCOME</th>\n",
       "      <th>LOAN_WAS_PAID_BACK</th>\n",
       "    </tr>\n",
       "  </thead>\n",
       "  <tbody>\n",
       "    <tr>\n",
       "      <th>count</th>\n",
       "      <td>6588.000000</td>\n",
       "      <td>6588.000000</td>\n",
       "      <td>6.586000e+03</td>\n",
       "      <td>6588.000000</td>\n",
       "    </tr>\n",
       "    <tr>\n",
       "      <th>mean</th>\n",
       "      <td>39801.079539</td>\n",
       "      <td>34.443989</td>\n",
       "      <td>8.019131e+06</td>\n",
       "      <td>0.853825</td>\n",
       "    </tr>\n",
       "    <tr>\n",
       "      <th>std</th>\n",
       "      <td>1922.288595</td>\n",
       "      <td>7.737636</td>\n",
       "      <td>6.582340e+06</td>\n",
       "      <td>0.353308</td>\n",
       "    </tr>\n",
       "    <tr>\n",
       "      <th>min</th>\n",
       "      <td>36493.000000</td>\n",
       "      <td>20.000000</td>\n",
       "      <td>0.000000e+00</td>\n",
       "      <td>0.000000</td>\n",
       "    </tr>\n",
       "    <tr>\n",
       "      <th>25%</th>\n",
       "      <td>38139.750000</td>\n",
       "      <td>28.000000</td>\n",
       "      <td>4.000000e+06</td>\n",
       "      <td>1.000000</td>\n",
       "    </tr>\n",
       "    <tr>\n",
       "      <th>50%</th>\n",
       "      <td>39786.500000</td>\n",
       "      <td>33.500000</td>\n",
       "      <td>6.000000e+06</td>\n",
       "      <td>1.000000</td>\n",
       "    </tr>\n",
       "    <tr>\n",
       "      <th>75%</th>\n",
       "      <td>41453.250000</td>\n",
       "      <td>40.000000</td>\n",
       "      <td>1.000000e+07</td>\n",
       "      <td>1.000000</td>\n",
       "    </tr>\n",
       "    <tr>\n",
       "      <th>max</th>\n",
       "      <td>43185.000000</td>\n",
       "      <td>54.000000</td>\n",
       "      <td>1.000000e+08</td>\n",
       "      <td>1.000000</td>\n",
       "    </tr>\n",
       "  </tbody>\n",
       "</table>\n",
       "</div>"
      ],
      "text/plain": [
       "        customer_id          AGE        INCOME  LOAN_WAS_PAID_BACK\n",
       "count   6588.000000  6588.000000  6.586000e+03         6588.000000\n",
       "mean   39801.079539    34.443989  8.019131e+06            0.853825\n",
       "std     1922.288595     7.737636  6.582340e+06            0.353308\n",
       "min    36493.000000    20.000000  0.000000e+00            0.000000\n",
       "25%    38139.750000    28.000000  4.000000e+06            1.000000\n",
       "50%    39786.500000    33.500000  6.000000e+06            1.000000\n",
       "75%    41453.250000    40.000000  1.000000e+07            1.000000\n",
       "max    43185.000000    54.000000  1.000000e+08            1.000000"
      ]
     },
     "execution_count": 65,
     "metadata": {},
     "output_type": "execute_result"
    }
   ],
   "source": [
    "df_customer_info.describe()"
   ]
  },
  {
   "cell_type": "code",
   "execution_count": 66,
   "metadata": {},
   "outputs": [
    {
     "data": {
      "text/html": [
       "<div>\n",
       "<style scoped>\n",
       "    .dataframe tbody tr th:only-of-type {\n",
       "        vertical-align: middle;\n",
       "    }\n",
       "\n",
       "    .dataframe tbody tr th {\n",
       "        vertical-align: top;\n",
       "    }\n",
       "\n",
       "    .dataframe thead th {\n",
       "        text-align: right;\n",
       "    }\n",
       "</style>\n",
       "<table border=\"1\" class=\"dataframe\">\n",
       "  <thead>\n",
       "    <tr style=\"text-align: right;\">\n",
       "      <th></th>\n",
       "      <th>customer_id</th>\n",
       "      <th>LOANS_WITHOUT_DELAYS</th>\n",
       "      <th>LOANS_WITH_DELAYS</th>\n",
       "      <th>KNOWN_ASSETS</th>\n",
       "    </tr>\n",
       "  </thead>\n",
       "  <tbody>\n",
       "    <tr>\n",
       "      <th>count</th>\n",
       "      <td>5268.000000</td>\n",
       "      <td>5268.000000</td>\n",
       "      <td>5268.000000</td>\n",
       "      <td>3.837000e+03</td>\n",
       "    </tr>\n",
       "    <tr>\n",
       "      <th>mean</th>\n",
       "      <td>39799.389142</td>\n",
       "      <td>1.650152</td>\n",
       "      <td>0.413250</td>\n",
       "      <td>1.287204e+07</td>\n",
       "    </tr>\n",
       "    <tr>\n",
       "      <th>std</th>\n",
       "      <td>1921.185055</td>\n",
       "      <td>0.826997</td>\n",
       "      <td>0.891211</td>\n",
       "      <td>1.259531e+07</td>\n",
       "    </tr>\n",
       "    <tr>\n",
       "      <th>min</th>\n",
       "      <td>36493.000000</td>\n",
       "      <td>1.000000</td>\n",
       "      <td>0.000000</td>\n",
       "      <td>0.000000e+00</td>\n",
       "    </tr>\n",
       "    <tr>\n",
       "      <th>25%</th>\n",
       "      <td>38138.750000</td>\n",
       "      <td>1.000000</td>\n",
       "      <td>0.000000</td>\n",
       "      <td>0.000000e+00</td>\n",
       "    </tr>\n",
       "    <tr>\n",
       "      <th>50%</th>\n",
       "      <td>39785.000000</td>\n",
       "      <td>1.000000</td>\n",
       "      <td>0.000000</td>\n",
       "      <td>1.000000e+07</td>\n",
       "    </tr>\n",
       "    <tr>\n",
       "      <th>75%</th>\n",
       "      <td>41452.250000</td>\n",
       "      <td>2.000000</td>\n",
       "      <td>0.000000</td>\n",
       "      <td>2.000000e+07</td>\n",
       "    </tr>\n",
       "    <tr>\n",
       "      <th>max</th>\n",
       "      <td>43184.000000</td>\n",
       "      <td>8.000000</td>\n",
       "      <td>3.000000</td>\n",
       "      <td>5.000000e+07</td>\n",
       "    </tr>\n",
       "  </tbody>\n",
       "</table>\n",
       "</div>"
      ],
      "text/plain": [
       "        customer_id  LOANS_WITHOUT_DELAYS  LOANS_WITH_DELAYS  KNOWN_ASSETS\n",
       "count   5268.000000           5268.000000        5268.000000  3.837000e+03\n",
       "mean   39799.389142              1.650152           0.413250  1.287204e+07\n",
       "std     1921.185055              0.826997           0.891211  1.259531e+07\n",
       "min    36493.000000              1.000000           0.000000  0.000000e+00\n",
       "25%    38138.750000              1.000000           0.000000  0.000000e+00\n",
       "50%    39785.000000              1.000000           0.000000  1.000000e+07\n",
       "75%    41452.250000              2.000000           0.000000  2.000000e+07\n",
       "max    43184.000000              8.000000           3.000000  5.000000e+07"
      ]
     },
     "execution_count": 66,
     "metadata": {},
     "output_type": "execute_result"
    }
   ],
   "source": [
    "df_credit_bureau.describe()"
   ]
  },
  {
   "attachments": {},
   "cell_type": "markdown",
   "metadata": {},
   "source": [
    "There are no visible outliers for both data. We can further understand our data with visual plots."
   ]
  },
  {
   "cell_type": "code",
   "execution_count": 67,
   "metadata": {},
   "outputs": [
    {
     "data": {
      "text/plain": [
       "Index(['customer_id', 'LOANS_WITHOUT_DELAYS', 'LOANS_WITH_DELAYS',\n",
       "       'KNOWN_ASSETS'],\n",
       "      dtype='object')"
      ]
     },
     "execution_count": 67,
     "metadata": {},
     "output_type": "execute_result"
    }
   ],
   "source": [
    "df_credit_bureau.columns"
   ]
  },
  {
   "cell_type": "code",
   "execution_count": 68,
   "metadata": {},
   "outputs": [
    {
     "data": {
      "text/plain": [
       "Index(['customer_id', 'AGE', 'INCOME', 'GENDER', 'EDUCATION', 'LOAN_PURPOSE',\n",
       "       'APPLICATION_RECEIVE_TIME', 'HAS_APPLIED_BEFORE',\n",
       "       'HAS_INCOME_VERIFICATION', 'LOAN_WAS_PAID_BACK'],\n",
       "      dtype='object')"
      ]
     },
     "execution_count": 68,
     "metadata": {},
     "output_type": "execute_result"
    }
   ],
   "source": [
    "df_customer_info.columns"
   ]
  },
  {
   "attachments": {},
   "cell_type": "markdown",
   "metadata": {},
   "source": [
    "##### Distribution of data plots"
   ]
  },
  {
   "cell_type": "code",
   "execution_count": 69,
   "metadata": {},
   "outputs": [
    {
     "data": {
      "text/plain": [
       "Male      3538\n",
       "Female    3050\n",
       "Name: GENDER, dtype: int64"
      ]
     },
     "execution_count": 69,
     "metadata": {},
     "output_type": "execute_result"
    }
   ],
   "source": [
    "df_customer_info['GENDER'].value_counts()"
   ]
  },
  {
   "cell_type": "code",
   "execution_count": 70,
   "metadata": {},
   "outputs": [
    {
     "data": {
      "image/png": "[encoded data removed]",
      "text/plain": [
       "<Figure size 432x288 with 1 Axes>"
      ]
     },
     "metadata": {
      "needs_background": "light"
     },
     "output_type": "display_data"
    }
   ],
   "source": [
    "df_customer_info['GENDER'].value_counts().plot(kind='barh');"
   ]
  },
  {
   "cell_type": "code",
   "execution_count": 71,
   "metadata": {},
   "outputs": [
    {
     "name": "stdout",
     "output_type": "stream",
     "text": [
      "Working Capital              2044\n",
      "Renovation                   1812\n",
      "Credit card                  1486\n",
      "Electronic unsecured loan     221\n",
      "Holiday                       197\n",
      "Investment                    179\n",
      "Bills                         174\n",
      "Education                     153\n",
      "Venture capital               119\n",
      "Other                          84\n",
      "Housing loan                   67\n",
      "Car/Motorcycle                  3\n",
      "Name: LOAN_PURPOSE, dtype: int64\n"
     ]
    },
    {
     "data": {
      "image/png": "[encoded data removed]",
      "text/plain": [
       "<Figure size 432x288 with 1 Axes>"
      ]
     },
     "metadata": {
      "needs_background": "light"
     },
     "output_type": "display_data"
    }
   ],
   "source": [
    "print(df_customer_info['LOAN_PURPOSE'].value_counts())\n",
    "df_customer_info['LOAN_PURPOSE'].value_counts().plot(kind='barh');"
   ]
  },
  {
   "cell_type": "code",
   "execution_count": 72,
   "metadata": {},
   "outputs": [
    {
     "name": "stdout",
     "output_type": "stream",
     "text": [
      "No     4246\n",
      "Yes    2342\n",
      "Name: HAS_APPLIED_BEFORE, dtype: int64\n"
     ]
    },
    {
     "data": {
      "image/png": "[encoded data removed]",
      "text/plain": [
       "<Figure size 432x288 with 1 Axes>"
      ]
     },
     "metadata": {
      "needs_background": "light"
     },
     "output_type": "display_data"
    }
   ],
   "source": [
    "print(df_customer_info['HAS_APPLIED_BEFORE'].value_counts())\n",
    "df_customer_info['HAS_APPLIED_BEFORE'].value_counts().plot(kind='barh');"
   ]
  },
  {
   "cell_type": "code",
   "execution_count": 73,
   "metadata": {},
   "outputs": [
    {
     "name": "stdout",
     "output_type": "stream",
     "text": [
      "1    5625\n",
      "0     963\n",
      "Name: LOAN_WAS_PAID_BACK, dtype: int64\n"
     ]
    },
    {
     "data": {
      "image/png": "[encoded data removed]",
      "text/plain": [
       "<Figure size 432x288 with 1 Axes>"
      ]
     },
     "metadata": {
      "needs_background": "light"
     },
     "output_type": "display_data"
    }
   ],
   "source": [
    "print(df_customer_info['LOAN_WAS_PAID_BACK'].value_counts())\n",
    "df_customer_info['LOAN_WAS_PAID_BACK'].value_counts().plot(kind='barh');"
   ]
  },
  {
   "cell_type": "code",
   "execution_count": 74,
   "metadata": {},
   "outputs": [
    {
     "name": "stdout",
     "output_type": "stream",
     "text": [
      "Bachelor Degree                  3448\n",
      "High School                      1753\n",
      "Diploma                          1150\n",
      "Master's Degree/Post graduate     185\n",
      "Other                              52\n",
      "Name: EDUCATION, dtype: int64\n"
     ]
    }
   ],
   "source": [
    "print(df_customer_info['EDUCATION'].value_counts())"
   ]
  },
  {
   "cell_type": "code",
   "execution_count": 75,
   "metadata": {},
   "outputs": [
    {
     "data": {
      "text/plain": [
       "0    4138\n",
       "1     489\n",
       "3     406\n",
       "2     235\n",
       "Name: LOANS_WITH_DELAYS, dtype: int64"
      ]
     },
     "execution_count": 75,
     "metadata": {},
     "output_type": "execute_result"
    }
   ],
   "source": [
    "df_credit_bureau['LOANS_WITH_DELAYS'].value_counts()"
   ]
  },
  {
   "cell_type": "code",
   "execution_count": 76,
   "metadata": {},
   "outputs": [
    {
     "name": "stdout",
     "output_type": "stream",
     "text": [
      "1    2780\n",
      "2    1755\n",
      "3     576\n",
      "4     120\n",
      "5      30\n",
      "6       5\n",
      "7       1\n",
      "8       1\n",
      "Name: LOANS_WITHOUT_DELAYS, dtype: int64\n"
     ]
    },
    {
     "data": {
      "image/png": "[encoded data removed]",
      "text/plain": [
       "<Figure size 432x288 with 1 Axes>"
      ]
     },
     "metadata": {
      "needs_background": "light"
     },
     "output_type": "display_data"
    }
   ],
   "source": [
    "print(df_credit_bureau['LOANS_WITHOUT_DELAYS'].value_counts())\n",
    "df_credit_bureau['LOANS_WITHOUT_DELAYS'].value_counts().plot(kind='barh');"
   ]
  },
  {
   "cell_type": "code",
   "execution_count": 77,
   "metadata": {},
   "outputs": [
    {
     "data": {
      "image/png": "[encoded data removed]",
      "text/plain": [
       "<Figure size 864x864 with 1 Axes>"
      ]
     },
     "metadata": {
      "needs_background": "light"
     },
     "output_type": "display_data"
    }
   ],
   "source": [
    "#print(df_customer_info['AGE'].value_counts())\n",
    "df_customer_info['AGE'].value_counts().plot(kind='bar', figsize=(12,12));"
   ]
  },
  {
   "cell_type": "code",
   "execution_count": 78,
   "metadata": {},
   "outputs": [
    {
     "data": {
      "image/png": "[encoded data removed]",
      "text/plain": [
       "<Figure size 864x864 with 1 Axes>"
      ]
     },
     "metadata": {
      "needs_background": "light"
     },
     "output_type": "display_data"
    }
   ],
   "source": [
    "df_customer_info[\"INCOME\"].plot.hist(bins=10, figsize=(12,12));"
   ]
  },
  {
   "attachments": {},
   "cell_type": "markdown",
   "metadata": {},
   "source": [
    "Observations\n",
    "- The data distributions have no outliers\n",
    "- There are only few null values which will be treated after the merge\n",
    "Loans were taken by those within age range of 20-54\n",
    "\n",
    "\n",
    "We will merge our dataset in order to understand our customers better and build our model."
   ]
  },
  {
   "cell_type": "code",
   "execution_count": 79,
   "metadata": {},
   "outputs": [],
   "source": [
    "df = pd.merge(df_customer_info,df_credit_bureau, on='customer_id', how='outer')"
   ]
  },
  {
   "cell_type": "code",
   "execution_count": 80,
   "metadata": {},
   "outputs": [
    {
     "name": "stdout",
     "output_type": "stream",
     "text": [
      "<class 'pandas.core.frame.DataFrame'>\n",
      "Int64Index: 6588 entries, 0 to 6587\n",
      "Data columns (total 13 columns):\n",
      " #   Column                    Non-Null Count  Dtype  \n",
      "---  ------                    --------------  -----  \n",
      " 0   customer_id               6588 non-null   int64  \n",
      " 1   AGE                       6588 non-null   int64  \n",
      " 2   INCOME                    6586 non-null   float64\n",
      " 3   GENDER                    6588 non-null   object \n",
      " 4   EDUCATION                 6588 non-null   object \n",
      " 5   LOAN_PURPOSE              6539 non-null   object \n",
      " 6   APPLICATION_RECEIVE_TIME  6588 non-null   object \n",
      " 7   HAS_APPLIED_BEFORE        6588 non-null   object \n",
      " 8   HAS_INCOME_VERIFICATION   6588 non-null   object \n",
      " 9   LOAN_WAS_PAID_BACK        6588 non-null   int64  \n",
      " 10  LOANS_WITHOUT_DELAYS      5268 non-null   float64\n",
      " 11  LOANS_WITH_DELAYS         5268 non-null   float64\n",
      " 12  KNOWN_ASSETS              3837 non-null   float64\n",
      "dtypes: float64(4), int64(3), object(6)\n",
      "memory usage: 720.6+ KB\n"
     ]
    }
   ],
   "source": [
    "df.info()"
   ]
  },
  {
   "cell_type": "code",
   "execution_count": 81,
   "metadata": {},
   "outputs": [
    {
     "data": {
      "text/plain": [
       "customer_id                    0\n",
       "AGE                            0\n",
       "INCOME                         2\n",
       "GENDER                         0\n",
       "EDUCATION                      0\n",
       "LOAN_PURPOSE                  49\n",
       "APPLICATION_RECEIVE_TIME       0\n",
       "HAS_APPLIED_BEFORE             0\n",
       "HAS_INCOME_VERIFICATION        0\n",
       "LOAN_WAS_PAID_BACK             0\n",
       "LOANS_WITHOUT_DELAYS        1320\n",
       "LOANS_WITH_DELAYS           1320\n",
       "KNOWN_ASSETS                2751\n",
       "dtype: int64"
      ]
     },
     "execution_count": 81,
     "metadata": {},
     "output_type": "execute_result"
    }
   ],
   "source": [
    "df.isnull().sum()"
   ]
  },
  {
   "attachments": {},
   "cell_type": "markdown",
   "metadata": {},
   "source": [
    "After the merge we see some null values, since null values for the last 3 columns is quite large we will fill it with 0 rather than dropping the entire rows.\n",
    "\n",
    "We will fill income with the mean income and fill purpose of loan with \"Other\"\n"
   ]
  },
  {
   "cell_type": "code",
   "execution_count": 82,
   "metadata": {},
   "outputs": [],
   "source": [
    "df['LOANS_WITHOUT_DELAYS'].fillna(value=0, inplace=True)\n",
    "df['LOANS_WITH_DELAYS'].fillna(value=0, inplace=True)\n",
    "df['KNOWN_ASSETS'].fillna(value=0, inplace=True)\n",
    "df['LOAN_PURPOSE'].fillna(value='Other', inplace=True)\n",
    "df['INCOME'].fillna(value=df['INCOME'].mean(), inplace=True)"
   ]
  },
  {
   "cell_type": "code",
   "execution_count": 83,
   "metadata": {},
   "outputs": [
    {
     "data": {
      "text/plain": [
       "customer_id                 0\n",
       "AGE                         0\n",
       "INCOME                      0\n",
       "GENDER                      0\n",
       "EDUCATION                   0\n",
       "LOAN_PURPOSE                0\n",
       "APPLICATION_RECEIVE_TIME    0\n",
       "HAS_APPLIED_BEFORE          0\n",
       "HAS_INCOME_VERIFICATION     0\n",
       "LOAN_WAS_PAID_BACK          0\n",
       "LOANS_WITHOUT_DELAYS        0\n",
       "LOANS_WITH_DELAYS           0\n",
       "KNOWN_ASSETS                0\n",
       "dtype: int64"
      ]
     },
     "execution_count": 83,
     "metadata": {},
     "output_type": "execute_result"
    }
   ],
   "source": [
    "df.isnull().sum()"
   ]
  },
  {
   "cell_type": "code",
   "execution_count": 84,
   "metadata": {},
   "outputs": [
    {
     "data": {
      "text/html": [
       "<div>\n",
       "<style scoped>\n",
       "    .dataframe tbody tr th:only-of-type {\n",
       "        vertical-align: middle;\n",
       "    }\n",
       "\n",
       "    .dataframe tbody tr th {\n",
       "        vertical-align: top;\n",
       "    }\n",
       "\n",
       "    .dataframe thead th {\n",
       "        text-align: right;\n",
       "    }\n",
       "</style>\n",
       "<table border=\"1\" class=\"dataframe\">\n",
       "  <thead>\n",
       "    <tr style=\"text-align: right;\">\n",
       "      <th></th>\n",
       "      <th>customer_id</th>\n",
       "      <th>AGE</th>\n",
       "      <th>INCOME</th>\n",
       "      <th>GENDER</th>\n",
       "      <th>EDUCATION</th>\n",
       "      <th>LOAN_PURPOSE</th>\n",
       "      <th>APPLICATION_RECEIVE_TIME</th>\n",
       "      <th>HAS_APPLIED_BEFORE</th>\n",
       "      <th>HAS_INCOME_VERIFICATION</th>\n",
       "      <th>LOAN_WAS_PAID_BACK</th>\n",
       "      <th>LOANS_WITHOUT_DELAYS</th>\n",
       "      <th>LOANS_WITH_DELAYS</th>\n",
       "      <th>KNOWN_ASSETS</th>\n",
       "    </tr>\n",
       "  </thead>\n",
       "  <tbody>\n",
       "    <tr>\n",
       "      <th>0</th>\n",
       "      <td>36493</td>\n",
       "      <td>40</td>\n",
       "      <td>10000000.0</td>\n",
       "      <td>Female</td>\n",
       "      <td>Diploma</td>\n",
       "      <td>Working Capital</td>\n",
       "      <td>09:07:00</td>\n",
       "      <td>No</td>\n",
       "      <td>Yes</td>\n",
       "      <td>1</td>\n",
       "      <td>3.0</td>\n",
       "      <td>3.0</td>\n",
       "      <td>40000000.0</td>\n",
       "    </tr>\n",
       "    <tr>\n",
       "      <th>1</th>\n",
       "      <td>36494</td>\n",
       "      <td>39</td>\n",
       "      <td>15000000.0</td>\n",
       "      <td>Female</td>\n",
       "      <td>Bachelor Degree</td>\n",
       "      <td>Other</td>\n",
       "      <td>15:15:00</td>\n",
       "      <td>No</td>\n",
       "      <td>Yes</td>\n",
       "      <td>1</td>\n",
       "      <td>3.0</td>\n",
       "      <td>0.0</td>\n",
       "      <td>20000000.0</td>\n",
       "    </tr>\n",
       "    <tr>\n",
       "      <th>2</th>\n",
       "      <td>36495</td>\n",
       "      <td>28</td>\n",
       "      <td>15000000.0</td>\n",
       "      <td>Male</td>\n",
       "      <td>Bachelor Degree</td>\n",
       "      <td>Renovation</td>\n",
       "      <td>07:13:00</td>\n",
       "      <td>No</td>\n",
       "      <td>Yes</td>\n",
       "      <td>1</td>\n",
       "      <td>0.0</td>\n",
       "      <td>0.0</td>\n",
       "      <td>0.0</td>\n",
       "    </tr>\n",
       "    <tr>\n",
       "      <th>3</th>\n",
       "      <td>36496</td>\n",
       "      <td>28</td>\n",
       "      <td>4000000.0</td>\n",
       "      <td>Male</td>\n",
       "      <td>Bachelor Degree</td>\n",
       "      <td>Renovation</td>\n",
       "      <td>12:05:00</td>\n",
       "      <td>Yes</td>\n",
       "      <td>Yes</td>\n",
       "      <td>1</td>\n",
       "      <td>2.0</td>\n",
       "      <td>1.0</td>\n",
       "      <td>0.0</td>\n",
       "    </tr>\n",
       "    <tr>\n",
       "      <th>4</th>\n",
       "      <td>36497</td>\n",
       "      <td>38</td>\n",
       "      <td>10000000.0</td>\n",
       "      <td>Male</td>\n",
       "      <td>Diploma</td>\n",
       "      <td>Renovation</td>\n",
       "      <td>14:35:00</td>\n",
       "      <td>Yes</td>\n",
       "      <td>Yes</td>\n",
       "      <td>0</td>\n",
       "      <td>1.0</td>\n",
       "      <td>0.0</td>\n",
       "      <td>40000000.0</td>\n",
       "    </tr>\n",
       "  </tbody>\n",
       "</table>\n",
       "</div>"
      ],
      "text/plain": [
       "   customer_id  AGE      INCOME  GENDER        EDUCATION     LOAN_PURPOSE  \\\n",
       "0        36493   40  10000000.0  Female          Diploma  Working Capital   \n",
       "1        36494   39  15000000.0  Female  Bachelor Degree            Other   \n",
       "2        36495   28  15000000.0    Male  Bachelor Degree       Renovation   \n",
       "3        36496   28   4000000.0    Male  Bachelor Degree       Renovation   \n",
       "4        36497   38  10000000.0    Male          Diploma       Renovation   \n",
       "\n",
       "  APPLICATION_RECEIVE_TIME HAS_APPLIED_BEFORE HAS_INCOME_VERIFICATION  \\\n",
       "0                 09:07:00                 No                     Yes   \n",
       "1                 15:15:00                 No                     Yes   \n",
       "2                 07:13:00                 No                     Yes   \n",
       "3                 12:05:00                Yes                     Yes   \n",
       "4                 14:35:00                Yes                     Yes   \n",
       "\n",
       "   LOAN_WAS_PAID_BACK  LOANS_WITHOUT_DELAYS  LOANS_WITH_DELAYS  KNOWN_ASSETS  \n",
       "0                   1                   3.0                3.0    40000000.0  \n",
       "1                   1                   3.0                0.0    20000000.0  \n",
       "2                   1                   0.0                0.0           0.0  \n",
       "3                   1                   2.0                1.0           0.0  \n",
       "4                   0                   1.0                0.0    40000000.0  "
      ]
     },
     "execution_count": 84,
     "metadata": {},
     "output_type": "execute_result"
    }
   ],
   "source": [
    "df.head()"
   ]
  },
  {
   "attachments": {},
   "cell_type": "markdown",
   "metadata": {},
   "source": [
    "##### Data Preprocessing"
   ]
  },
  {
   "attachments": {},
   "cell_type": "markdown",
   "metadata": {},
   "source": [
    "Converting our categorical variables to dummy values"
   ]
  },
  {
   "cell_type": "code",
   "execution_count": 85,
   "metadata": {},
   "outputs": [],
   "source": [
    "cat_vars=['EDUCATION', 'LOAN_PURPOSE', 'GENDER', 'HAS_APPLIED_BEFORE', 'HAS_INCOME_VERIFICATION']\n",
    "for var in cat_vars:\n",
    " cat_list='var'+'_'+var\n",
    " cat_list = pd.get_dummies(df[var], prefix=var)\n",
    " df1=df.join(cat_list)\n",
    " df=df1\n",
    "cat_vars= ['EDUCATION', 'LOAN_PURPOSE', 'GENDER', 'HAS_APPLIED_BEFORE', 'HAS_INCOME_VERIFICATION']\n",
    "data_vars=df.columns.values.tolist()\n",
    "to_keep=[i for i in data_vars if i not in cat_vars]"
   ]
  },
  {
   "cell_type": "code",
   "execution_count": 86,
   "metadata": {},
   "outputs": [
    {
     "name": "stderr",
     "output_type": "stream",
     "text": [
      "C:\\Users\\Linda\\AppData\\Local\\Packages\\PythonSoftwareFoundation.Python.3.9_qbz5n2kfra8p0\\LocalCache\\local-packages\\Python39\\site-packages\\pandas\\core\\frame.py:4906: SettingWithCopyWarning: \n",
      "A value is trying to be set on a copy of a slice from a DataFrame\n",
      "\n",
      "See the caveats in the documentation: https://pandas.pydata.org/pandas-docs/stable/user_guide/indexing.html#returning-a-view-versus-a-copy\n",
      "  return super().drop(\n"
     ]
    },
    {
     "data": {
      "text/plain": [
       "array(['AGE', 'INCOME', 'LOAN_WAS_PAID_BACK', 'LOANS_WITHOUT_DELAYS',\n",
       "       'LOANS_WITH_DELAYS', 'KNOWN_ASSETS', 'EDUCATION_Bachelor Degree',\n",
       "       'EDUCATION_Diploma', 'EDUCATION_High School',\n",
       "       \"EDUCATION_Master's Degree/Post graduate\", 'EDUCATION_Other',\n",
       "       'LOAN_PURPOSE_Bills', 'LOAN_PURPOSE_Car/Motorcycle',\n",
       "       'LOAN_PURPOSE_Credit card', 'LOAN_PURPOSE_Education',\n",
       "       'LOAN_PURPOSE_Electronic unsecured loan', 'LOAN_PURPOSE_Holiday',\n",
       "       'LOAN_PURPOSE_Housing loan', 'LOAN_PURPOSE_Investment',\n",
       "       'LOAN_PURPOSE_Other', 'LOAN_PURPOSE_Renovation',\n",
       "       'LOAN_PURPOSE_Venture capital', 'LOAN_PURPOSE_Working Capital',\n",
       "       'GENDER_Female', 'GENDER_Male', 'HAS_APPLIED_BEFORE_No',\n",
       "       'HAS_APPLIED_BEFORE_Yes', 'HAS_INCOME_VERIFICATION_No',\n",
       "       'HAS_INCOME_VERIFICATION_Yes'], dtype=object)"
      ]
     },
     "execution_count": 86,
     "metadata": {},
     "output_type": "execute_result"
    }
   ],
   "source": [
    "data_final=df[to_keep]\n",
    "data_final.drop(['customer_id', 'APPLICATION_RECEIVE_TIME'], axis=1, inplace=True)\n",
    "data_final.columns.values"
   ]
  },
  {
   "cell_type": "code",
   "execution_count": 87,
   "metadata": {},
   "outputs": [
    {
     "name": "stdout",
     "output_type": "stream",
     "text": [
      "<class 'pandas.core.frame.DataFrame'>\n",
      "Int64Index: 6588 entries, 0 to 6587\n",
      "Data columns (total 29 columns):\n",
      " #   Column                                   Non-Null Count  Dtype  \n",
      "---  ------                                   --------------  -----  \n",
      " 0   AGE                                      6588 non-null   int64  \n",
      " 1   INCOME                                   6588 non-null   float64\n",
      " 2   LOAN_WAS_PAID_BACK                       6588 non-null   int64  \n",
      " 3   LOANS_WITHOUT_DELAYS                     6588 non-null   float64\n",
      " 4   LOANS_WITH_DELAYS                        6588 non-null   float64\n",
      " 5   KNOWN_ASSETS                             6588 non-null   float64\n",
      " 6   EDUCATION_Bachelor Degree                6588 non-null   uint8  \n",
      " 7   EDUCATION_Diploma                        6588 non-null   uint8  \n",
      " 8   EDUCATION_High School                    6588 non-null   uint8  \n",
      " 9   EDUCATION_Master's Degree/Post graduate  6588 non-null   uint8  \n",
      " 10  EDUCATION_Other                          6588 non-null   uint8  \n",
      " 11  LOAN_PURPOSE_Bills                       6588 non-null   uint8  \n",
      " 12  LOAN_PURPOSE_Car/Motorcycle              6588 non-null   uint8  \n",
      " 13  LOAN_PURPOSE_Credit card                 6588 non-null   uint8  \n",
      " 14  LOAN_PURPOSE_Education                   6588 non-null   uint8  \n",
      " 15  LOAN_PURPOSE_Electronic unsecured loan   6588 non-null   uint8  \n",
      " 16  LOAN_PURPOSE_Holiday                     6588 non-null   uint8  \n",
      " 17  LOAN_PURPOSE_Housing loan                6588 non-null   uint8  \n",
      " 18  LOAN_PURPOSE_Investment                  6588 non-null   uint8  \n",
      " 19  LOAN_PURPOSE_Other                       6588 non-null   uint8  \n",
      " 20  LOAN_PURPOSE_Renovation                  6588 non-null   uint8  \n",
      " 21  LOAN_PURPOSE_Venture capital             6588 non-null   uint8  \n",
      " 22  LOAN_PURPOSE_Working Capital             6588 non-null   uint8  \n",
      " 23  GENDER_Female                            6588 non-null   uint8  \n",
      " 24  GENDER_Male                              6588 non-null   uint8  \n",
      " 25  HAS_APPLIED_BEFORE_No                    6588 non-null   uint8  \n",
      " 26  HAS_APPLIED_BEFORE_Yes                   6588 non-null   uint8  \n",
      " 27  HAS_INCOME_VERIFICATION_No               6588 non-null   uint8  \n",
      " 28  HAS_INCOME_VERIFICATION_Yes              6588 non-null   uint8  \n",
      "dtypes: float64(4), int64(2), uint8(23)\n",
      "memory usage: 766.3 KB\n"
     ]
    }
   ],
   "source": [
    "data_final.info()"
   ]
  },
  {
   "attachments": {},
   "cell_type": "markdown",
   "metadata": {},
   "source": [
    "We have all our data in the right datatype for building model, we will now split our data into train and test and balance samples\n",
    "\n",
    "But before then, let's see if our target data - LOAN_WAS_PAID_BACK is balnaced."
   ]
  },
  {
   "cell_type": "code",
   "execution_count": 88,
   "metadata": {},
   "outputs": [],
   "source": [
    "X = data_final.loc[:, data_final.columns != 'LOAN_WAS_PAID_BACK']\n",
    "y = df.loc[:, df.columns == 'LOAN_WAS_PAID_BACK']"
   ]
  },
  {
   "cell_type": "code",
   "execution_count": 89,
   "metadata": {},
   "outputs": [
    {
     "data": {
      "text/plain": [
       "LOAN_WAS_PAID_BACK\n",
       "1                     5625\n",
       "0                      963\n",
       "dtype: int64"
      ]
     },
     "execution_count": 89,
     "metadata": {},
     "output_type": "execute_result"
    }
   ],
   "source": [
    "y.value_counts()"
   ]
  },
  {
   "attachments": {},
   "cell_type": "markdown",
   "metadata": {},
   "source": [
    "This shows that data is imbalanced, hence we will add class_weight balanced parameter"
   ]
  },
  {
   "attachments": {},
   "cell_type": "markdown",
   "metadata": {},
   "source": [
    "Ranking features according to importance to model"
   ]
  },
  {
   "cell_type": "code",
   "execution_count": 90,
   "metadata": {},
   "outputs": [
    {
     "name": "stdout",
     "output_type": "stream",
     "text": [
      "[ True  True  True False  True  True  True  True False False False False\n",
      "  True False False False False False False  True False False  True  True\n",
      "  True  True False  True]\n",
      "[ 1  1  1  8  1  1  1  1 10 12  6 14  1  9  5  3 13 11  4  1  7  2  1  1\n",
      "  1  1 15  1]\n"
     ]
    }
   ],
   "source": [
    "\n",
    "logreg = LogisticRegression()\n",
    "rfe = RFE(logreg)\n",
    "rfe = rfe.fit(X, y.values.ravel())\n",
    "print(rfe.support_)\n",
    "print(rfe.ranking_)"
   ]
  },
  {
   "cell_type": "code",
   "execution_count": 91,
   "metadata": {},
   "outputs": [
    {
     "data": {
      "text/html": [
       "<div>\n",
       "<style scoped>\n",
       "    .dataframe tbody tr th:only-of-type {\n",
       "        vertical-align: middle;\n",
       "    }\n",
       "\n",
       "    .dataframe tbody tr th {\n",
       "        vertical-align: top;\n",
       "    }\n",
       "\n",
       "    .dataframe thead th {\n",
       "        text-align: right;\n",
       "    }\n",
       "</style>\n",
       "<table border=\"1\" class=\"dataframe\">\n",
       "  <thead>\n",
       "    <tr style=\"text-align: right;\">\n",
       "      <th></th>\n",
       "      <th>Feature</th>\n",
       "      <th>Importance</th>\n",
       "    </tr>\n",
       "  </thead>\n",
       "  <tbody>\n",
       "    <tr>\n",
       "      <th>0</th>\n",
       "      <td>AGE</td>\n",
       "      <td>1</td>\n",
       "    </tr>\n",
       "    <tr>\n",
       "      <th>25</th>\n",
       "      <td>HAS_APPLIED_BEFORE_Yes</td>\n",
       "      <td>1</td>\n",
       "    </tr>\n",
       "    <tr>\n",
       "      <th>24</th>\n",
       "      <td>HAS_APPLIED_BEFORE_No</td>\n",
       "      <td>1</td>\n",
       "    </tr>\n",
       "    <tr>\n",
       "      <th>23</th>\n",
       "      <td>GENDER_Male</td>\n",
       "      <td>1</td>\n",
       "    </tr>\n",
       "    <tr>\n",
       "      <th>22</th>\n",
       "      <td>GENDER_Female</td>\n",
       "      <td>1</td>\n",
       "    </tr>\n",
       "    <tr>\n",
       "      <th>19</th>\n",
       "      <td>LOAN_PURPOSE_Renovation</td>\n",
       "      <td>1</td>\n",
       "    </tr>\n",
       "    <tr>\n",
       "      <th>12</th>\n",
       "      <td>LOAN_PURPOSE_Credit card</td>\n",
       "      <td>1</td>\n",
       "    </tr>\n",
       "    <tr>\n",
       "      <th>27</th>\n",
       "      <td>HAS_INCOME_VERIFICATION_Yes</td>\n",
       "      <td>1</td>\n",
       "    </tr>\n",
       "    <tr>\n",
       "      <th>1</th>\n",
       "      <td>INCOME</td>\n",
       "      <td>1</td>\n",
       "    </tr>\n",
       "    <tr>\n",
       "      <th>2</th>\n",
       "      <td>LOANS_WITHOUT_DELAYS</td>\n",
       "      <td>1</td>\n",
       "    </tr>\n",
       "    <tr>\n",
       "      <th>6</th>\n",
       "      <td>EDUCATION_Diploma</td>\n",
       "      <td>1</td>\n",
       "    </tr>\n",
       "    <tr>\n",
       "      <th>4</th>\n",
       "      <td>KNOWN_ASSETS</td>\n",
       "      <td>1</td>\n",
       "    </tr>\n",
       "    <tr>\n",
       "      <th>7</th>\n",
       "      <td>EDUCATION_High School</td>\n",
       "      <td>1</td>\n",
       "    </tr>\n",
       "    <tr>\n",
       "      <th>5</th>\n",
       "      <td>EDUCATION_Bachelor Degree</td>\n",
       "      <td>1</td>\n",
       "    </tr>\n",
       "    <tr>\n",
       "      <th>21</th>\n",
       "      <td>LOAN_PURPOSE_Working Capital</td>\n",
       "      <td>2</td>\n",
       "    </tr>\n",
       "    <tr>\n",
       "      <th>15</th>\n",
       "      <td>LOAN_PURPOSE_Holiday</td>\n",
       "      <td>3</td>\n",
       "    </tr>\n",
       "    <tr>\n",
       "      <th>18</th>\n",
       "      <td>LOAN_PURPOSE_Other</td>\n",
       "      <td>4</td>\n",
       "    </tr>\n",
       "    <tr>\n",
       "      <th>14</th>\n",
       "      <td>LOAN_PURPOSE_Electronic unsecured loan</td>\n",
       "      <td>5</td>\n",
       "    </tr>\n",
       "    <tr>\n",
       "      <th>10</th>\n",
       "      <td>LOAN_PURPOSE_Bills</td>\n",
       "      <td>6</td>\n",
       "    </tr>\n",
       "    <tr>\n",
       "      <th>20</th>\n",
       "      <td>LOAN_PURPOSE_Venture capital</td>\n",
       "      <td>7</td>\n",
       "    </tr>\n",
       "    <tr>\n",
       "      <th>3</th>\n",
       "      <td>LOANS_WITH_DELAYS</td>\n",
       "      <td>8</td>\n",
       "    </tr>\n",
       "    <tr>\n",
       "      <th>13</th>\n",
       "      <td>LOAN_PURPOSE_Education</td>\n",
       "      <td>9</td>\n",
       "    </tr>\n",
       "    <tr>\n",
       "      <th>8</th>\n",
       "      <td>EDUCATION_Master's Degree/Post graduate</td>\n",
       "      <td>10</td>\n",
       "    </tr>\n",
       "    <tr>\n",
       "      <th>17</th>\n",
       "      <td>LOAN_PURPOSE_Investment</td>\n",
       "      <td>11</td>\n",
       "    </tr>\n",
       "    <tr>\n",
       "      <th>9</th>\n",
       "      <td>EDUCATION_Other</td>\n",
       "      <td>12</td>\n",
       "    </tr>\n",
       "    <tr>\n",
       "      <th>16</th>\n",
       "      <td>LOAN_PURPOSE_Housing loan</td>\n",
       "      <td>13</td>\n",
       "    </tr>\n",
       "    <tr>\n",
       "      <th>11</th>\n",
       "      <td>LOAN_PURPOSE_Car/Motorcycle</td>\n",
       "      <td>14</td>\n",
       "    </tr>\n",
       "    <tr>\n",
       "      <th>26</th>\n",
       "      <td>HAS_INCOME_VERIFICATION_No</td>\n",
       "      <td>15</td>\n",
       "    </tr>\n",
       "  </tbody>\n",
       "</table>\n",
       "</div>"
      ],
      "text/plain": [
       "                                    Feature  Importance\n",
       "0                                       AGE           1\n",
       "25                   HAS_APPLIED_BEFORE_Yes           1\n",
       "24                    HAS_APPLIED_BEFORE_No           1\n",
       "23                              GENDER_Male           1\n",
       "22                            GENDER_Female           1\n",
       "19                  LOAN_PURPOSE_Renovation           1\n",
       "12                 LOAN_PURPOSE_Credit card           1\n",
       "27              HAS_INCOME_VERIFICATION_Yes           1\n",
       "1                                    INCOME           1\n",
       "2                      LOANS_WITHOUT_DELAYS           1\n",
       "6                         EDUCATION_Diploma           1\n",
       "4                              KNOWN_ASSETS           1\n",
       "7                     EDUCATION_High School           1\n",
       "5                 EDUCATION_Bachelor Degree           1\n",
       "21             LOAN_PURPOSE_Working Capital           2\n",
       "15                     LOAN_PURPOSE_Holiday           3\n",
       "18                       LOAN_PURPOSE_Other           4\n",
       "14   LOAN_PURPOSE_Electronic unsecured loan           5\n",
       "10                       LOAN_PURPOSE_Bills           6\n",
       "20             LOAN_PURPOSE_Venture capital           7\n",
       "3                         LOANS_WITH_DELAYS           8\n",
       "13                   LOAN_PURPOSE_Education           9\n",
       "8   EDUCATION_Master's Degree/Post graduate          10\n",
       "17                  LOAN_PURPOSE_Investment          11\n",
       "9                           EDUCATION_Other          12\n",
       "16                LOAN_PURPOSE_Housing loan          13\n",
       "11              LOAN_PURPOSE_Car/Motorcycle          14\n",
       "26               HAS_INCOME_VERIFICATION_No          15"
      ]
     },
     "execution_count": 91,
     "metadata": {},
     "output_type": "execute_result"
    }
   ],
   "source": [
    "data_X1 = pd.DataFrame({\n",
    " 'Feature': X.columns,\n",
    " 'Importance': rfe.ranking_},)\n",
    "data_X1.sort_values(by=['Importance'])"
   ]
  },
  {
   "cell_type": "code",
   "execution_count": 92,
   "metadata": {},
   "outputs": [
    {
     "name": "stdout",
     "output_type": "stream",
     "text": [
      "['AGE', 'INCOME', 'LOANS_WITHOUT_DELAYS', 'KNOWN_ASSETS', 'EDUCATION_Bachelor Degree', 'EDUCATION_Diploma', 'EDUCATION_High School', 'LOAN_PURPOSE_Credit card', 'LOAN_PURPOSE_Renovation', 'GENDER_Female', 'GENDER_Male', 'HAS_APPLIED_BEFORE_No', 'HAS_APPLIED_BEFORE_Yes', 'HAS_INCOME_VERIFICATION_Yes']\n",
      "14\n"
     ]
    }
   ],
   "source": [
    "#Since we've identified features that affected model most, let's use those\n",
    "cols=[]\n",
    "for i in range (0, len(data_X1['Importance'])):\n",
    " if data_X1['Importance'][i] == 1:\n",
    "  cols.append(data_X1['Feature'][i])\n",
    "print(cols)\n",
    "print(len(cols))"
   ]
  },
  {
   "attachments": {},
   "cell_type": "markdown",
   "metadata": {},
   "source": [
    "#### Modelling"
   ]
  },
  {
   "attachments": {},
   "cell_type": "markdown",
   "metadata": {},
   "source": [
    "##### Logistic Regression"
   ]
  },
  {
   "cell_type": "code",
   "execution_count": 93,
   "metadata": {},
   "outputs": [
    {
     "name": "stderr",
     "output_type": "stream",
     "text": [
      "C:\\Users\\Linda\\AppData\\Local\\Packages\\PythonSoftwareFoundation.Python.3.9_qbz5n2kfra8p0\\LocalCache\\local-packages\\Python39\\site-packages\\sklearn\\utils\\validation.py:993: DataConversionWarning: A column-vector y was passed when a 1d array was expected. Please change the shape of y to (n_samples, ), for example using ravel().\n",
      "  y = column_or_1d(y, warn=True)\n"
     ]
    },
    {
     "data": {
      "text/plain": [
       "LogisticRegression(class_weight='balanced')"
      ]
     },
     "execution_count": 93,
     "metadata": {},
     "output_type": "execute_result"
    }
   ],
   "source": [
    "X_train, X_test, y_train, y_test = train_test_split(X, y, test_size=0.20, random_state=42)\n",
    "logreg = LogisticRegression(class_weight='balanced', penalty='l2')\n",
    "logreg.fit(X_train, y_train)"
   ]
  },
  {
   "attachments": {},
   "cell_type": "markdown",
   "metadata": {},
   "source": [
    "#### Evaluation"
   ]
  },
  {
   "cell_type": "code",
   "execution_count": 94,
   "metadata": {},
   "outputs": [
    {
     "name": "stdout",
     "output_type": "stream",
     "text": [
      "Accuracy of logistic regression classifier on test set: 0.85\n"
     ]
    }
   ],
   "source": [
    "y_pred = logreg.predict(X_test)\n",
    "print('Accuracy of logistic regression classifier on test set: {:.2f}'.format(accuracy_score(y_test, y_pred)))"
   ]
  },
  {
   "cell_type": "code",
   "execution_count": 95,
   "metadata": {},
   "outputs": [
    {
     "name": "stdout",
     "output_type": "stream",
     "text": [
      "[[   3  195]\n",
      " [   8 1112]]\n"
     ]
    }
   ],
   "source": [
    "confusion_matrix = confusion_matrix(y_test, y_pred)\n",
    "print(confusion_matrix)"
   ]
  },
  {
   "cell_type": "code",
   "execution_count": 96,
   "metadata": {},
   "outputs": [
    {
     "name": "stdout",
     "output_type": "stream",
     "text": [
      "The result is telling us that we have:  1115 correct predictions\n",
      "The result is telling us that we have:  203 incorrect predictions\n",
      "We have a total predictions of:  1318\n"
     ]
    }
   ],
   "source": [
    "print('The result is telling us that we have: ',(confusion_matrix[0,0]+confusion_matrix[1,1]),'correct predictions')\n",
    "print('The result is telling us that we have: ',(confusion_matrix[0,1]+confusion_matrix[1,0]),'incorrect predictions')\n",
    "print('We have a total predictions of: ',(confusion_matrix.sum()))"
   ]
  },
  {
   "cell_type": "code",
   "execution_count": 97,
   "metadata": {},
   "outputs": [
    {
     "name": "stdout",
     "output_type": "stream",
     "text": [
      "              precision    recall  f1-score   support\n",
      "\n",
      "           0       0.27      0.02      0.03       198\n",
      "           1       0.85      0.99      0.92      1120\n",
      "\n",
      "    accuracy                           0.85      1318\n",
      "   macro avg       0.56      0.50      0.47      1318\n",
      "weighted avg       0.76      0.85      0.78      1318\n",
      "\n"
     ]
    }
   ],
   "source": [
    "print(classification_report(y_test, y_pred))"
   ]
  },
  {
   "attachments": {},
   "cell_type": "markdown",
   "metadata": {},
   "source": [
    "#### Result"
   ]
  },
  {
   "cell_type": "code",
   "execution_count": 99,
   "metadata": {},
   "outputs": [
    {
     "name": "stderr",
     "output_type": "stream",
     "text": [
      "C:\\Users\\Linda\\AppData\\Local\\Temp/ipykernel_26328/3666024979.py:1: SettingWithCopyWarning: \n",
      "A value is trying to be set on a copy of a slice from a DataFrame.\n",
      "Try using .loc[row_indexer,col_indexer] = value instead\n",
      "\n",
      "See the caveats in the documentation: https://pandas.pydata.org/pandas-docs/stable/user_guide/indexing.html#returning-a-view-versus-a-copy\n",
      "  data_final['probability'] = logreg.predict_proba(data_final[X_train.columns])[:,1]\n",
      "C:\\Users\\Linda\\AppData\\Local\\Temp/ipykernel_26328/3666024979.py:2: SettingWithCopyWarning: \n",
      "A value is trying to be set on a copy of a slice from a DataFrame.\n",
      "Try using .loc[row_indexer,col_indexer] = value instead\n",
      "\n",
      "See the caveats in the documentation: https://pandas.pydata.org/pandas-docs/stable/user_guide/indexing.html#returning-a-view-versus-a-copy\n",
      "  data_final['customer_id'] = df['customer_id']\n"
     ]
    },
    {
     "data": {
      "text/html": [
       "<div>\n",
       "<style scoped>\n",
       "    .dataframe tbody tr th:only-of-type {\n",
       "        vertical-align: middle;\n",
       "    }\n",
       "\n",
       "    .dataframe tbody tr th {\n",
       "        vertical-align: top;\n",
       "    }\n",
       "\n",
       "    .dataframe thead th {\n",
       "        text-align: right;\n",
       "    }\n",
       "</style>\n",
       "<table border=\"1\" class=\"dataframe\">\n",
       "  <thead>\n",
       "    <tr style=\"text-align: right;\">\n",
       "      <th></th>\n",
       "      <th>customer_id</th>\n",
       "      <th>probability</th>\n",
       "    </tr>\n",
       "  </thead>\n",
       "  <tbody>\n",
       "    <tr>\n",
       "      <th>0</th>\n",
       "      <td>36493</td>\n",
       "      <td>0.675538</td>\n",
       "    </tr>\n",
       "    <tr>\n",
       "      <th>1</th>\n",
       "      <td>36494</td>\n",
       "      <td>0.608951</td>\n",
       "    </tr>\n",
       "    <tr>\n",
       "      <th>2</th>\n",
       "      <td>36495</td>\n",
       "      <td>0.528557</td>\n",
       "    </tr>\n",
       "    <tr>\n",
       "      <th>3</th>\n",
       "      <td>36496</td>\n",
       "      <td>0.507623</td>\n",
       "    </tr>\n",
       "    <tr>\n",
       "      <th>4</th>\n",
       "      <td>36497</td>\n",
       "      <td>0.675538</td>\n",
       "    </tr>\n",
       "    <tr>\n",
       "      <th>5</th>\n",
       "      <td>36498</td>\n",
       "      <td>0.515243</td>\n",
       "    </tr>\n",
       "    <tr>\n",
       "      <th>6</th>\n",
       "      <td>36499</td>\n",
       "      <td>0.556079</td>\n",
       "    </tr>\n",
       "    <tr>\n",
       "      <th>7</th>\n",
       "      <td>36500</td>\n",
       "      <td>0.526657</td>\n",
       "    </tr>\n",
       "    <tr>\n",
       "      <th>8</th>\n",
       "      <td>36501</td>\n",
       "      <td>0.596172</td>\n",
       "    </tr>\n",
       "    <tr>\n",
       "      <th>9</th>\n",
       "      <td>36502</td>\n",
       "      <td>0.548539</td>\n",
       "    </tr>\n",
       "  </tbody>\n",
       "</table>\n",
       "</div>"
      ],
      "text/plain": [
       "   customer_id  probability\n",
       "0        36493     0.675538\n",
       "1        36494     0.608951\n",
       "2        36495     0.528557\n",
       "3        36496     0.507623\n",
       "4        36497     0.675538\n",
       "5        36498     0.515243\n",
       "6        36499     0.556079\n",
       "7        36500     0.526657\n",
       "8        36501     0.596172\n",
       "9        36502     0.548539"
      ]
     },
     "execution_count": 99,
     "metadata": {},
     "output_type": "execute_result"
    }
   ],
   "source": [
    "data_final['probability'] = logreg.predict_proba(data_final[X_train.columns])[:,1]\n",
    "data_final['customer_id'] = df['customer_id']\n",
    "data_final[['customer_id', 'probability']].head(10)"
   ]
  },
  {
   "cell_type": "code",
   "execution_count": 100,
   "metadata": {},
   "outputs": [],
   "source": [
    "customer_score = data_final[['customer_id', 'probability']]"
   ]
  },
  {
   "attachments": {},
   "cell_type": "markdown",
   "metadata": {},
   "source": [
    "##### Business Translation\n",
    "\n",
    "From the above prediction, if a new customer comes and 'AGE' = 30, 'INCOME'=50000, 'LOANS_WITHOUT_DELAYS'=0, 'KNOWN_ASSETS'=0, 'EDUCATION_Bachelor Degree'=1, 'GENDER_Female'=1, 'HAS_APPLIED_BEFORE_No'=1, 'HAS_INCOME_VERIFICATION_Yes'=1 then we can predict outcome as below"
   ]
  },
  {
   "cell_type": "code",
   "execution_count": 107,
   "metadata": {},
   "outputs": [
    {
     "name": "stdout",
     "output_type": "stream",
     "text": [
      "\u001b[1m This new loan applicant has a 50.00% chance of defaulting on a new debt\n"
     ]
    },
    {
     "name": "stderr",
     "output_type": "stream",
     "text": [
      "C:\\Users\\Linda\\AppData\\Local\\Packages\\PythonSoftwareFoundation.Python.3.9_qbz5n2kfra8p0\\LocalCache\\local-packages\\Python39\\site-packages\\sklearn\\base.py:450: UserWarning: X does not have valid feature names, but LogisticRegression was fitted with feature names\n",
      "  warnings.warn(\n"
     ]
    }
   ],
   "source": [
    "new_data = np.array([30,5000,0,0,0,1,0,0,0,0,0,1,0,0,0,0,0,0,0,0,1,0,1,0,0,1,1,1]).reshape(1, -1)\n",
    "new_pred=logreg.predict_proba(new_data)[:,1][0]\n",
    "print(\"\\033[1m This new loan applicant has a {:.2%}\".format(new_pred), \"chance of defaulting on a new debt\")"
   ]
  }
 ],
 "metadata": {
  "kernelspec": {
   "display_name": "Python 3",
   "language": "python",
   "name": "python3"
  },
  "language_info": {
   "codemirror_mode": {
    "name": "ipython",
    "version": 3
   },
   "file_extension": ".py",
   "mimetype": "text/x-python",
   "name": "python",
   "nbconvert_exporter": "python",
   "pygments_lexer": "ipython3",
   "version": "3.9.13"
  },
  "orig_nbformat": 4,
  "vscode": {
   "interpreter": {
    "hash": "910e14f1d67dbd70ab9668029834f11b119b2d6b494d688bdfef48e4c7906e1d"
   }
  }
 },
 "nbformat": 4,
 "nbformat_minor": 2
}
